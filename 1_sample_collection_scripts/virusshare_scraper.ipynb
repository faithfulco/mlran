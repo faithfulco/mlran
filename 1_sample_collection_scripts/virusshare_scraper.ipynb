{
 "cells": [
  {
   "cell_type": "markdown",
   "id": "ee411427-9b82-4baf-83c6-c6782ad85eec",
   "metadata": {},
   "source": [
    "# VirusShare Scraper\n",
    "\n",
    "This code is used to access VirusShare website https://virusshare.com/ and download samples automatically. \n",
    "\n",
    "\n",
    "Developed by: Faithful Onwuegbuche.\n",
    "\n",
    "Please reference the MLRan paper if you are to use this code.\n",
    "\n",
    "**Caution: You are about to download potentially harmful samples from the VirusShare website. Ensure that their use aligns with VirusShare’s policies and adheres to established cybersecurity ethics. Handle these samples responsibly and only within a secure, isolated environment (e.g., a virtual machine) to prevent accidental infection. VirusShare archives these files with the password \"infected\" as an additional security measure.**"
   ]
  },
  {
   "cell_type": "code",
   "execution_count": 2,
   "id": "2896ae99-e59f-46d0-bc94-b2ab6e1e2069",
   "metadata": {},
   "outputs": [],
   "source": [
    "# importing libraries\n",
    "\n",
    "import requests\n",
    "from bs4 import BeautifulSoup\n",
    "import time\n",
    "import os"
   ]
  },
  {
   "cell_type": "markdown",
   "id": "298fbf6e-8177-4c3c-9f25-f32cce0c47c7",
   "metadata": {},
   "source": [
    "### Login Function\n",
    "\n",
    "Function to login to VirusShare using the credentials. "
   ]
  },
  {
   "cell_type": "code",
   "execution_count": 4,
   "id": "ca58113a-d573-45c7-a707-92815822d4b2",
   "metadata": {},
   "outputs": [],
   "source": [
    "# VirusShare credentials\n",
    "# You can get these credentials at: https://virusshare.com/ \n",
    "username = '' #write your virusshare username here\n",
    "password = '' #write your virusshare password here"
   ]
  },
  {
   "cell_type": "code",
   "execution_count": 5,
   "id": "d7c459b5-f911-4d33-a994-be78c4fe00ac",
   "metadata": {},
   "outputs": [],
   "source": [
    "# Function login() enables you to login to virusshare programmatically.\n",
    "login_url = 'https://virusshare.com/processlogin'\n",
    "\n",
    "session = requests.Session()\n",
    "\n",
    "def login(session, username, password):\n",
    "    login_data = {\n",
    "        'username': username,\n",
    "        'password': password\n",
    "    }\n",
    "    response = session.post(login_url, data=login_data, allow_redirects=True)\n",
    "    if response.status_code == 200 and \"Logout\" in response.text:\n",
    "        print('Successfully logged in')\n",
    "        return True\n",
    "    else:\n",
    "        print('Failed to log in')\n",
    "        print(f'Response status code: {response.status_code}')\n",
    "        print(f'Response text: {response.text}')\n",
    "        return False"
   ]
  },
  {
   "cell_type": "code",
   "execution_count": 6,
   "id": "aa16d1ef-fe06-4516-97c3-5d83ee522fa7",
   "metadata": {},
   "outputs": [
    {
     "name": "stdout",
     "output_type": "stream",
     "text": [
      "Successfully logged in\n"
     ]
    },
    {
     "data": {
      "text/plain": [
       "True"
      ]
     },
     "execution_count": 6,
     "metadata": {},
     "output_type": "execute_result"
    }
   ],
   "source": [
    "# Testing the login function\n",
    "login(session, username, password)"
   ]
  },
  {
   "cell_type": "markdown",
   "id": "d0db7f13-729d-41b7-822f-aca60264572c",
   "metadata": {},
   "source": [
    "### Search Function\n",
    "\n",
    "This code is used to search VirusShare according to the sample hash provided."
   ]
  },
  {
   "cell_type": "code",
   "execution_count": 8,
   "id": "49fc8c1f-5828-4637-9b3f-b941230bd393",
   "metadata": {},
   "outputs": [],
   "source": [
    "# URL for search\n",
    "search_url = 'https://virusshare.com/search'\n",
    "\n",
    "def search_hash(session, hash_to_search):\n",
    "    search_data = {\n",
    "        'search': hash_to_search\n",
    "    }\n",
    "    response = session.post(search_url, data=search_data, allow_redirects=True)\n",
    "    if response.status_code == 200:\n",
    "        print(f'Successfully searched for hash {hash_to_search}')\n",
    "        return response.text\n",
    "    else:\n",
    "        print(f'Failed to search for hash {hash_to_search}')\n",
    "        print(f'Response status code: {response.status_code}')\n",
    "        print(f'Response text: {response.text}')\n",
    "        return None"
   ]
  },
  {
   "cell_type": "code",
   "execution_count": 9,
   "id": "878b1d34-a0e5-423a-a841-0dc3306c118f",
   "metadata": {},
   "outputs": [
    {
     "name": "stdout",
     "output_type": "stream",
     "text": [
      "Successfully searched for hash 60468339f5464275bf51af4bb997ac81d05d75db\n"
     ]
    },
    {
     "data": {
      "text/plain": [
       "'\\n<html>\\n<head>\\n<meta http-equiv=\"content-type\" content=\"text/html; charset=UTF-8\">\\n<meta name=\"viewport\" content=\"width=device-width, initial-scale=1.0\">\\n<link rel=\"icon\"\\n href=\"https://virusshare.com/favicon.ico\">\\n<title>VirusShare.com</title>\\n<style>\\n<!--\\nbody,td,a,p,.h{font-family:arial,sans-serif; hyphens: auto;}\\n.h{font-size: 20px;}\\n.q{color:#4444ff;}\\n.small{font-size: small;}\\ntable.rpt { max-width: 100%; overflow-wrap:anywhere; border-collapse: collapse;}\\ntr { border-bottom: 1px solid #888; }\\ntr.nb { border-bottom: 0px; }\\n.lc { font-weight : bold; min-width: 5em;  vertical-align: top; }\\n.mc { min-width: 5em; }\\n\\ntable.wordy { max-width: 640px; overflow-wrap:anywhere; text-align: justify; }\\n\\nhr.break {\\n  border-top: 3px double #888;\\n}\\n\\nimg.vxsicon {\\n  display: block;\\n  max-width: 48px;\\n  max-height: 48px;\\n  width: auto;\\n  height: auto;\\n}\\nimg.exticon {\\n  display: block;\\n  max-width: 34px;\\n  max-height: 48px;\\n  width: auto;\\n  height: auto;\\n}\\n\\ntable.crawlerdata { max-width: 100%; overflow-wrap:anywhere; }\\n\\n.lbc{font-size: large; font-weight: bold; text-align: center;}\\n.lb{font-size: large; font-weight: bold;}\\n.lj{text-align: justify;}\\n.lji{text-align: justify; text-indent: 1em;}\\n.mb{font-size: medium; font-weight: bold;}\\n.example{font-size: medium; font-family: monospace; background-color: lightgrey; text-indent: 1em;}\\n.bigexample{font-size: medium; font-family: monospace; background-color: lightgrey; max-width: 640px; width: 100%; height: 25em; overflow-wrap:scroll; resize: none; }\\n.cols{column-width: 150px; column-count: auto;}\\n\\n.account{position: absolute; top: 2px; right: 2px; font-size: small;}\\n\\n@media print {\\n  .account {visibility : hidden; }\\n}\\n\\n.error{color:#FF4444; max-width: 640px; }\\n.block{color:#000000; max-width: 640px; text-align: justify; }\\na { text-decoration: none; }\\na.title{ font-weight: bold; color:#000000; text-decoration: none; }\\n\\n//-->\\n</style>\\n\\n</head>\\n<body bgcolor=#ffffff text=#000000 link=#4444ff vlink=#4444ff alink=#4444ff topmargin=21 marginheight=21>\\n<center>\\n<a href=\"/\" class=\"title\">VirusShare.com</a> - Because Sharing is Caring<br />\\n\\t<p>\\n\\t<a href=\"/\">Home</a>&nbsp;&bull;&nbsp;<a href=\"hashes\">Hashes</a>&nbsp;&bull;&nbsp;<a href=\"torrents\">Torrents</a>&nbsp;&bull;&nbsp;<a href=\"research\">Research</a>&nbsp;&bull;&nbsp;<a href=\"about\">About</a>&nbsp;&bull;&nbsp;<a href=\"https://corvusforensics.com/product-category/virusshare/\">Swag&nbsp;Shop</a>\\n\\t<p>\\n\\t\\n        <div class=\"account\" id=\"noprint\">Account: <a href=\"account\">Faithful </a> - <a href=\"logout\">Logout</a></div>\\n        <p>\\n</center>\\n<p>\\n<center>\\n<form method=\"post\" action=\"search\">\\n<input type=\"text\" style=\"width: 20em\" name=\"search\" value=\\'60468339f5464275bf51af4bb997ac81d05d75db\\'><input type=\"Submit\" value=\"Search\">&nbsp;<a href=\"search\" title=\"Search help\">?</a>\\n</form>\\n</center>\\n<center>Displaying result 1 to 1</center><p><p>\\n<table class=\\'rpt\\' align=\"center\" cellspacing=0 cellpadding=3><tr><td colspan=3 align=\"center\" valign=\"top\">7c3f822d3fb51567e8c629392bc83f55521f4f99aef2da08d8c7925b555fb7bf</td></tr><tr><td colspan=3 align=\"center\" valign=\"top\">VirusShare info last updated 2015-08-19 02:03:41 UTC</td></tr><tr><td colspan=3>\\n<table width=\"100%\" border=0 cellpadding=0 cellspacing=0><tr>\\n<td width=\"20%\" align=\"left\" valign=\"bottom\"><img src=\"images/cyberhazard.png\" class=\"vxsicon\" alt=\"Detected by 41 engines\" title=\"Detected by 41 engines\"></a></td>\\n<td width=\"20%\" align=\"center\" valign=\"bottom\">&nbsp;<a title=\"Source data is not available for this file (yet)\"><img src=\"images/ping.svg\" width=23 height=30></a></td>\\n<td width=\"20%\" align=\"center\" valign=\"bottom\"><a href=\"file?7c3f822d3fb51567e8c629392bc83f55521f4f99aef2da08d8c7925b555fb7bf\" title=\"Link to this report\" target=\"_blank\"><img src=\"images/linkb.svg\" width=30 height=30></a></td>\\n<td width=\"20%\" align=\"center\" valign=\"bottom\"><a href=\"download?7c3f822d3fb51567e8c629392bc83f55521f4f99aef2da08d8c7925b555fb7bf\" title=\"Download file\"><img src=\"images/downloadb.svg\" width=30 height=30></a></td>\\n<td width=\"20%\" align=\"right\" valign=\"bottom\"><img src=\"images/icons/exe.svg\" class=\"exticon\"></td>\\n</tr></table>\\n</td></tr><tr><td class=\\'lc\\'>MD5</td><td colspan=2>e4109430128e56dc9da8d4a02ada3e0e</td></tr>\\n<tr><td class=\\'lc\\'>SHA1</td><td colspan=2>60468339f5464275bf51af4bb997ac81d05d75db</td></tr>\\n<tr><td class=\\'lc\\'>SHA256</td><td colspan=2>7c3f822d3fb51567e8c629392bc83f55521f4f99aef2da08d8c7925b555fb7bf</td></tr><tr><td class=\\'lc\\'>SSDeep</td><td colspan=2><span class=\\'of\\'>768:pQLkNhENfE4XAO8RqjssX30TsC00IMop1dfdQ+hyne/H89FJaxFlJyrXWZOntFBv:pQdNfpC4Cj+p13Q8yWB3wrXWZItFBv</span></td></tr><tr><td class=\\'lc\\'>Authentihash</td><td colspan=2>005901655aba2572b7f31b65c1710fbdfe6e5898c0a935b64fe229fd63114ca0</td></tr><tr><td class=\\'lc\\'>Size</td><td colspan=2>98,304 bytes</td></tr>\\n<tr><td class=\\'lc\\'>File Type</td><td colspan=2>PE32 executable (GUI) Intel 80386, for MS Windows</td></tr>\\n<tr><td class=\\'lc\\'>Mime Type</td><td colspan=2>application/x-dosexec</td></tr><tr><td class=\\'lc\\'>Extension</td><td colspan=2>exe</td></tr><tr><td valign=\"top\" class=\\'lc\\'>TrID</td><td colspan=2>Win32 Executable (generic) (52.9%)<br>Generic Win/DOS Executable (23.5%)<br>DOS Executable Generic (23.5%)<br></td></tr><tr class=\\'lc\\'><td valign=\"top\">Detections<br>(41/52)</td><td colspan=2><table width=\"100%\"><tr bgcolor=\"#dddddd\"><td class=\"mc\">AVG</td><td>Generic_s.BFH</td></tr><tr bgcolor=\"#ffffff\"><td class=\"mc\">Ad-Aware</td><td>Trojan.Generic.9045312</td></tr><tr bgcolor=\"#dddddd\"><td class=\"mc\">Agnitum</td><td>Trojan.Foreign!rCcJkp06LH4</td></tr><tr bgcolor=\"#ffffff\"><td class=\"mc\">AhnLab-V3</td><td>Trojan/Win32.FakeAV</td></tr><tr bgcolor=\"#dddddd\"><td class=\"mc\">AntiVir</td><td>TR/Urausy.C.5290</td></tr><tr bgcolor=\"#ffffff\"><td class=\"mc\">Antiy-AVL</td><td>Worm/Win32.Qvod</td></tr><tr bgcolor=\"#dddddd\"><td class=\"mc\">Avast</td><td>Win32:Urausy-U [Trj]</td></tr><tr bgcolor=\"#ffffff\"><td class=\"mc\">Baidu-International</td><td>Trojan.Win32.Ransom.ap</td></tr><tr bgcolor=\"#dddddd\"><td class=\"mc\">BitDefender</td><td>Trojan.Generic.9045312</td></tr><tr bgcolor=\"#ffffff\"><td class=\"mc\">Bkav</td><td>W32.Clod06a.Trojan.7874</td></tr><tr bgcolor=\"#dddddd\"><td class=\"mc\">CMC</td><td>Trojan-Ransom.Win32.Foreign!O</td></tr><tr bgcolor=\"#ffffff\"><td class=\"mc\">Commtouch</td><td>W32/Ransom.FWKM-4436</td></tr><tr bgcolor=\"#dddddd\"><td class=\"mc\">Comodo</td><td>UnclassifiedMalware</td></tr><tr bgcolor=\"#ffffff\"><td class=\"mc\">DrWeb</td><td>Trojan.Fakealert.38185</td></tr><tr bgcolor=\"#dddddd\"><td class=\"mc\">ESET-NOD32</td><td>a variant of Win32/Kryptik.AXPJ</td></tr><tr bgcolor=\"#ffffff\"><td class=\"mc\">Emsisoft</td><td>Trojan.Generic.9045312 (B)</td></tr><tr bgcolor=\"#dddddd\"><td class=\"mc\">F-Secure</td><td>Trojan.Generic.9045312</td></tr><tr bgcolor=\"#ffffff\"><td class=\"mc\">Fortinet</td><td>W32/FakeAV.SZ!tr</td></tr><tr bgcolor=\"#dddddd\"><td class=\"mc\">GData</td><td>Trojan.Generic.9045312</td></tr><tr bgcolor=\"#ffffff\"><td class=\"mc\">Ikarus</td><td>Trojan-Ransom.Win32.Foreign</td></tr><tr bgcolor=\"#dddddd\"><td class=\"mc\">K7AntiVirus</td><td>Riskware ( 0040eff71 )</td></tr><tr bgcolor=\"#ffffff\"><td class=\"mc\">K7GW</td><td>Riskware ( 0040eff71 )</td></tr><tr bgcolor=\"#dddddd\"><td class=\"mc\">Kaspersky</td><td>Trojan-Ransom.Win32.Foreign.cdtx</td></tr><tr bgcolor=\"#ffffff\"><td class=\"mc\">Kingsoft</td><td>Win32.Troj.Undef.(kcloud)</td></tr><tr bgcolor=\"#dddddd\"><td class=\"mc\">Malwarebytes</td><td>Trojan.FakeAlert.RRE</td></tr><tr bgcolor=\"#ffffff\"><td class=\"mc\">McAfee</td><td>Ransom-FBOM!E4109430128E</td></tr><tr bgcolor=\"#dddddd\"><td class=\"mc\">McAfee-GW-Edition</td><td>Ransom-FBOM!E4109430128E</td></tr><tr bgcolor=\"#ffffff\"><td class=\"mc\">MicroWorld-eScan</td><td>Trojan.Generic.9045312</td></tr><tr bgcolor=\"#dddddd\"><td class=\"mc\">Microsoft</td><td>Ransom:Win32/Urausy.C</td></tr><tr bgcolor=\"#ffffff\"><td class=\"mc\">NANO-Antivirus</td><td>Trojan.Win32.Foreign.cjehqo</td></tr><tr bgcolor=\"#dddddd\"><td class=\"mc\">Norman</td><td>Hlux.GM</td></tr><tr bgcolor=\"#ffffff\"><td class=\"mc\">Panda</td><td>Trj/CI.A</td></tr><tr bgcolor=\"#dddddd\"><td class=\"mc\">Qihoo-360</td><td>HEUR/Malware.QVM07.Gen</td></tr><tr bgcolor=\"#ffffff\"><td class=\"mc\">SUPERAntiSpyware</td><td>Trojan.Agent/Gen-Kryptik</td></tr><tr bgcolor=\"#dddddd\"><td class=\"mc\">Sophos</td><td>Troj/Agent-ABPT</td></tr><tr bgcolor=\"#ffffff\"><td class=\"mc\">Symantec</td><td>Trojan.Ransomlock.Q</td></tr><tr bgcolor=\"#dddddd\"><td class=\"mc\">Tencent</td><td>Win32.Trojan.Foreign.Ahdw</td></tr><tr bgcolor=\"#ffffff\"><td class=\"mc\">TheHacker</td><td>Trojan/Kryptik.axpj</td></tr><tr bgcolor=\"#dddddd\"><td class=\"mc\">VBA32</td><td>BScope.Malware-Cryptor.Hlux.5913</td></tr><tr bgcolor=\"#ffffff\"><td class=\"mc\">VIPRE</td><td>Trojan.Win32.Urausy.ab (v)</td></tr><tr bgcolor=\"#dddddd\"><td class=\"mc\">nProtect</td><td>Trojan/W32.Agent.98304.FLQ</td></tr><tr><td colspan=2><a href=\"http://www.virustotal.com/file/7c3f822d3fb51567e8c629392bc83f55521f4f99aef2da08d8c7925b555fb7bf/analysis/\" target=\"_blank\"><i>VirusTotal Report</a> submitted 2014-05-28 02:20:41 UTC</i></td></tr></table></td></tr><tr><td valign=\"top\" class=\\'lc\\'>ExIF Data</td><td colspan=2><table width=\"100%\"><tr bgcolor=\"#dddddd\"><td>CodeSize</td><td>16384</td></tr><tr bgcolor=\"#ffffff\"><td>EntryPoint</td><td>0x11d2</td></tr><tr bgcolor=\"#dddddd\"><td>FileSize</td><td>96 kB</td></tr><tr bgcolor=\"#ffffff\"><td>FileType</td><td>Win32 EXE</td></tr><tr bgcolor=\"#dddddd\"><td>FileTypeExtension</td><td>exe</td></tr><tr bgcolor=\"#ffffff\"><td>ImageVersion</td><td>0</td></tr><tr bgcolor=\"#dddddd\"><td>InitializedDataSize</td><td>77824</td></tr><tr bgcolor=\"#ffffff\"><td>LinkerVersion</td><td>6</td></tr><tr bgcolor=\"#dddddd\"><td>MIMEType</td><td>application/octet-stream</td></tr><tr bgcolor=\"#ffffff\"><td>MachineType</td><td>Intel 386 or later, and compatibles</td></tr><tr bgcolor=\"#dddddd\"><td>OSVersion</td><td>4</td></tr><tr bgcolor=\"#ffffff\"><td>PEType</td><td>PE32</td></tr><tr bgcolor=\"#dddddd\"><td>Subsystem</td><td>Windows GUI</td></tr><tr bgcolor=\"#ffffff\"><td>SubsystemVersion</td><td>4</td></tr><tr bgcolor=\"#dddddd\"><td>TimeStamp</td><td>2005:07:21 12:25:49-04:00</td></tr><tr bgcolor=\"#ffffff\"><td>UninitializedDataSize</td><td>0</td></tr></table></td></tr></table><hr class=\\'break\\'><p class=\"small\">Search completed in 1.075 seconds.</p>'"
      ]
     },
     "execution_count": 9,
     "metadata": {},
     "output_type": "execute_result"
    }
   ],
   "source": [
    "# Testing\n",
    "\n",
    "try_hash = '60468339f5464275bf51af4bb997ac81d05d75db'\n",
    "search_results_html = search_hash(session, try_hash)\n",
    "search_results_html"
   ]
  },
  {
   "cell_type": "markdown",
   "id": "bb8c7d65-9768-4d20-9e00-7201c8289bcf",
   "metadata": {},
   "source": [
    "### Find Download Function\n",
    "\n",
    "This code is used to find the link for download. Make sure you are logged into virusshare website to download."
   ]
  },
  {
   "cell_type": "code",
   "execution_count": 11,
   "id": "cf240027-6ee1-4871-ad1f-433725b7ee71",
   "metadata": {},
   "outputs": [],
   "source": [
    "# Download url \n",
    "download_base_url = 'https://virusshare.com/download'"
   ]
  },
  {
   "cell_type": "code",
   "execution_count": 12,
   "id": "2db431ae-ee1a-4f60-823e-fc133375d537",
   "metadata": {},
   "outputs": [],
   "source": [
    "def find_download_link(search_results_html, sample_hash):\n",
    "    # Create a BeautifulSoup object\n",
    "    soup = BeautifulSoup(search_results_html, 'html.parser')\n",
    "    \n",
    "    # Find all <tr> tags\n",
    "    tr_tags = soup.find_all('tr')\n",
    "    \n",
    "    # Iterate through <tr> tags and find the one containing 'SHA256'\n",
    "    for tr in tr_tags:\n",
    "        if 'SHA256' in str(tr):\n",
    "            # Find the <td> tag containing 'SHA256'\n",
    "            td_tags = tr.find_all('td')\n",
    "            for td in td_tags:\n",
    "                if td.text.strip() == 'SHA256':\n",
    "                    # Extract the hash value from the next <td> tag\n",
    "                    hash_value = td.find_next_sibling('td').text.strip()\n",
    "                    print(\"SHA256 is:\", hash_value)\n",
    "                    break\n",
    "            break\n",
    "    else:\n",
    "        print(\"No <tr> tag containing SHA256 found.\")\n",
    "        \n",
    "    # Construct the download URL\n",
    "    download_url = f'{download_base_url}?{hash_value}'\n",
    "    print(\"The download link is:\", download_url)\n",
    "    return download_url"
   ]
  },
  {
   "cell_type": "code",
   "execution_count": 13,
   "id": "77c1685e-86d3-41e5-8e5e-1d156e3c6ebd",
   "metadata": {},
   "outputs": [
    {
     "name": "stdout",
     "output_type": "stream",
     "text": [
      "SHA256 is: 7c3f822d3fb51567e8c629392bc83f55521f4f99aef2da08d8c7925b555fb7bf\n",
      "The download link is: https://virusshare.com/download?7c3f822d3fb51567e8c629392bc83f55521f4f99aef2da08d8c7925b555fb7bf\n"
     ]
    },
    {
     "data": {
      "text/plain": [
       "'https://virusshare.com/download?7c3f822d3fb51567e8c629392bc83f55521f4f99aef2da08d8c7925b555fb7bf'"
      ]
     },
     "execution_count": 13,
     "metadata": {},
     "output_type": "execute_result"
    }
   ],
   "source": [
    "# Test the find Link \n",
    "find_download_link(search_results_html, try_hash)"
   ]
  },
  {
   "cell_type": "markdown",
   "id": "35b9fa12-aba1-4a37-8c38-e5ac3f0d0005",
   "metadata": {},
   "source": [
    "### Download Function\n",
    "\n",
    "This code is used to download samples from virusshare."
   ]
  },
  {
   "cell_type": "code",
   "execution_count": 15,
   "id": "caa462c6-1a25-47aa-99de-16b75a1c5858",
   "metadata": {},
   "outputs": [],
   "source": [
    "def download_sample(session, download_url, sample_hash):\n",
    "    response = session.get(download_url)\n",
    "    if response.status_code == 200:\n",
    "        # Save the file\n",
    "        filename = f\"{sample_hash}.zip\"  # VirusShare samples are zip. Open the file with password, \"infected\"\n",
    "\n",
    "        with open(filename, 'wb') as f:\n",
    "            f.write(response.content)\n",
    "        print(f\"Successfully downloaded sample {sample_hash} to {filename}\")\n",
    "    else:\n",
    "        print(f\"Failed to download {sample_hash}\")\n",
    "        print(f\"Status Code: {response.status_code}\")"
   ]
  },
  {
   "cell_type": "markdown",
   "id": "ba793396-0cfe-441e-a127-54c2f594dbdc",
   "metadata": {},
   "source": [
    "### Downloading multiple samples by their hashes"
   ]
  },
  {
   "cell_type": "code",
   "execution_count": 17,
   "id": "25523af2-4d27-4955-ae8d-86e6c7ee73c5",
   "metadata": {},
   "outputs": [],
   "source": [
    "## MD5 hashes for 3 files for testing\n",
    "## Here you can create a list of all the hashes you would like to download.\n",
    "\n",
    "hashes = [\"60468339f5464275bf51af4bb997ac81d05d75db\", \"8e9ab34c889dd3741fb251c30bdfc0ee97cfa174\", \"bd778bb52e3f58957d462e375e69fbf9829bc29b\"]"
   ]
  },
  {
   "cell_type": "code",
   "execution_count": 18,
   "id": "d59c173f-8090-4e53-9e80-920d4a09b501",
   "metadata": {},
   "outputs": [
    {
     "name": "stdout",
     "output_type": "stream",
     "text": [
      "Successfully logged in\n",
      "Successfully searched for hash 60468339f5464275bf51af4bb997ac81d05d75db\n",
      "SHA256 is: 7c3f822d3fb51567e8c629392bc83f55521f4f99aef2da08d8c7925b555fb7bf\n",
      "The download link is: https://virusshare.com/download?7c3f822d3fb51567e8c629392bc83f55521f4f99aef2da08d8c7925b555fb7bf\n",
      "Successfully downloaded sample sample_download/60468339f5464275bf51af4bb997ac81d05d75db to sample_download/60468339f5464275bf51af4bb997ac81d05d75db.zip\n",
      "\n",
      "Next file processing...\n",
      "\n",
      "Successfully searched for hash 8e9ab34c889dd3741fb251c30bdfc0ee97cfa174\n",
      "SHA256 is: 7af6d15f32d699466ee92f978a6eda5ae3ad6223c65caa8f299605e86536840a\n",
      "The download link is: https://virusshare.com/download?7af6d15f32d699466ee92f978a6eda5ae3ad6223c65caa8f299605e86536840a\n",
      "Successfully downloaded sample sample_download/8e9ab34c889dd3741fb251c30bdfc0ee97cfa174 to sample_download/8e9ab34c889dd3741fb251c30bdfc0ee97cfa174.zip\n",
      "\n",
      "Next file processing...\n",
      "\n",
      "Successfully searched for hash bd778bb52e3f58957d462e375e69fbf9829bc29b\n",
      "SHA256 is: 7aba7d0c06856f6be37274672498c1d296c714d05542628ad6dde54d6edb1cc1\n",
      "The download link is: https://virusshare.com/download?7aba7d0c06856f6be37274672498c1d296c714d05542628ad6dde54d6edb1cc1\n",
      "Successfully downloaded sample sample_download/bd778bb52e3f58957d462e375e69fbf9829bc29b to sample_download/bd778bb52e3f58957d462e375e69fbf9829bc29b.zip\n",
      "\n",
      "Next file processing...\n",
      "\n"
     ]
    }
   ],
   "source": [
    "# Ensure the folder exists for storing downloaded files\n",
    "download_folder = \"sample_download\"\n",
    "if not os.path.exists(download_folder):\n",
    "    os.makedirs(download_folder)\n",
    "\n",
    "# implementation:\n",
    "if login(session, username, password):\n",
    "    for sample_hash in hashes:\n",
    "        search_results_html = search_hash(session, sample_hash)\n",
    "        if search_results_html:\n",
    "            download_url = find_download_link(search_results_html, sample_hash)\n",
    "            if download_url:\n",
    "                download_sample(session, download_url, os.path.join(download_folder, sample_hash))\n",
    "                time.sleep(10)  # To avoid too frequent requests, adjust the delay as needed\n",
    "                print()\n",
    "                print(\"Next file processing...\")\n",
    "                print()"
   ]
  },
  {
   "cell_type": "code",
   "execution_count": null,
   "id": "278164d6-c265-48f3-aac7-79d6b2d4dfd3",
   "metadata": {},
   "outputs": [],
   "source": []
  },
  {
   "cell_type": "code",
   "execution_count": null,
   "id": "18712fc1-4bd1-4981-a920-373ed8fbe0be",
   "metadata": {},
   "outputs": [],
   "source": []
  }
 ],
 "metadata": {
  "kernelspec": {
   "display_name": "Python 3 (ipykernel)",
   "language": "python",
   "name": "python3"
  },
  "language_info": {
   "codemirror_mode": {
    "name": "ipython",
    "version": 3
   },
   "file_extension": ".py",
   "mimetype": "text/x-python",
   "name": "python",
   "nbconvert_exporter": "python",
   "pygments_lexer": "ipython3",
   "version": "3.11.5"
  }
 },
 "nbformat": 4,
 "nbformat_minor": 5
}
